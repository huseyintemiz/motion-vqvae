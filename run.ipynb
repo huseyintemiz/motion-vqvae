{
 "cells": [
  {
   "cell_type": "code",
   "execution_count": null,
   "metadata": {},
   "outputs": [],
   "source": [
    "\n",
    "!pip install scipy==1.10.1 numpy==1.21.5\n",
    "#restart"
   ]
  },
  {
   "cell_type": "code",
   "execution_count": null,
   "metadata": {},
   "outputs": [],
   "source": [
    "git clone https://github.com/huseyintemiz/motion-vqvae.git\n",
    "cd motion-vqvae\n",
    "\n",
    "mkdir dataset\n",
    "cd dataset\n",
    "gdown https://drive.google.com/uc?id=18UNPgcNOYpKh6ZyS1bH-gl4uq9zP-_ZL\n",
    "echo -e \"Downloading done!\"\n",
    "\n",
    "unzip HumanML3D.zip\n",
    "echo -e \"Unzip done!\"\n",
    "\n",
    "cd ..\n",
    "\n",
    "pip install -r req2.txt"
   ]
  }
 ],
 "metadata": {
  "language_info": {
   "name": "python"
  }
 },
 "nbformat": 4,
 "nbformat_minor": 2
}
